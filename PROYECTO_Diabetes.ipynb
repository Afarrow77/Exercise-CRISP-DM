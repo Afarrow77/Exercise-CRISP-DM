{
  "nbformat": 4,
  "nbformat_minor": 0,
  "metadata": {
    "colab": {
      "provenance": []
    },
    "kernelspec": {
      "name": "python3",
      "display_name": "Python 3"
    },
    "language_info": {
      "name": "python"
    }
  },
  "cells": [
    {
      "cell_type": "markdown",
      "source": [
        "## Proyecto Diabetes CRISP-DM : Fases Business Undestanding, EDA & Data Wrangling\n",
        " "
      ],
      "metadata": {
        "id": "MWQFKn34o1fc"
      }
    },
    {
      "cell_type": "markdown",
      "source": [
        "A partir del siguiente Dataset se realiza el proceso de investigación y consecución de objetivos de Negocio/Tarea de Investigación.\n",
        "\n",
        "> **Dataset:** shorturl.at/orJU5\n",
        "\n",
        "A partir de estos datos, se pretenden alcanzar los siguientes objeivos de Negocio/Investigación:\n",
        "\n",
        "- Objetivo 1: localizar el país con más diabetes \n",
        "- Objetivo 2: los hombres tienen más diabetes que las mujeres (true or false)\n",
        "- Objetivo 3: ¿Cuáles son los 3 países con más diabetes ?\n",
        "\n"
      ],
      "metadata": {
        "id": "S3jIf_hty0gX"
      }
    },
    {
      "cell_type": "code",
      "execution_count": null,
      "metadata": {
        "id": "n3R06WC4yyft"
      },
      "outputs": [],
      "source": [
        "# Paso 0:  Dataset"
      ]
    },
    {
      "cell_type": "markdown",
      "source": [
        "### Parte 0: Busineess Understanding 🤔\n",
        "\n"
      ],
      "metadata": {
        "id": "SosuxAIdpiYK"
      }
    },
    {
      "cell_type": "markdown",
      "source": [
        "### Parte 1.1: Exploración de Datos\n",
        "\n",
        "**¿De donde son los datos?** \n",
        " Este Dataset proviene de Kaggle \n",
        "\n",
        "**¿De qué empresa o institución es?** \n",
        "\n",
        "*https://ncdrisc.org/*\n",
        "\n",
        "Provienen de la red mundial de científicos cuyo objetivo es proporcionar información fiable y actualizada sobre enfermedades no transmisibles y factores de riesgo.\n",
        "\n",
        "**¿Qué vamos a hacer con ello?**\n",
        "\n",
        "Extraer , manipular la información dada basándonos en los objetivos marcados.\n",
        "El Dataset contiene 14.000 filas * 7 columnas.\n",
        "\n",
        "**A continuación, se expone el diccionario de datos:**\n",
        "* Country, Region, World: String. Procedencia del individuo\n",
        "* ISO : String. Código internacional para denominar cada país de forma normalizada\n",
        "* Sex : String. Género de cada individuo\n",
        "* Year: Int. Años\n",
        "* Age-standardised diabetes prevalence: Float. Estándard por edad de diabetes\n",
        "* Lower 95% uncertainty interval: Float. Intervalo de incertidumbre númerico inferior al 95 %\n",
        "* Upper 95% uncertainty interval: Float. Intervalo de incertidumbre númerico mayor al 95 %\n",
        "\n"
      ],
      "metadata": {
        "id": "OO9hobvQp4b_"
      }
    },
    {
      "cell_type": "markdown",
      "source": [
        "### Parte 1.2: Pandas"
      ],
      "metadata": {
        "id": "HKD07beFqkRr"
      }
    },
    {
      "cell_type": "code",
      "source": [
        "# Carga de datos\n",
        "import pandas as pd\n",
        "import seaborn as sns\n",
        "import matplotlib.pyplot as plt\n",
        "import numpy as np\n",
        "\n",
        "# head()\n",
        "# info()\n",
        "# % Completitud\n",
        "# NA ?\n"
      ],
      "metadata": {
        "id": "-8Ta4bKEq09R"
      },
      "execution_count": null,
      "outputs": []
    },
    {
      "cell_type": "code",
      "source": [
        "diabetes = pd.read_csv('Diabetes.csv', sep = ',')\n",
        "diabetes.head(200)"
      ],
      "metadata": {
        "colab": {
          "base_uri": "https://localhost:8080/",
          "height": 423
        },
        "id": "6IZgCkXCSLUF",
        "outputId": "4410bdb3-6e94-4abd-f2f9-ec1126d4520e"
      },
      "execution_count": null,
      "outputs": [
        {
          "output_type": "execute_result",
          "data": {
            "text/plain": [
              "    Country/Region/World  ISO  Sex  Year  \\\n",
              "0            Afghanistan  AFG  Men  1980   \n",
              "1            Afghanistan  AFG  Men  1981   \n",
              "2            Afghanistan  AFG  Men  1982   \n",
              "3            Afghanistan  AFG  Men  1983   \n",
              "4            Afghanistan  AFG  Men  1984   \n",
              "..                   ...  ...  ...   ...   \n",
              "195               Angola  AGO  Men  2000   \n",
              "196               Angola  AGO  Men  2001   \n",
              "197               Angola  AGO  Men  2002   \n",
              "198               Angola  AGO  Men  2003   \n",
              "199               Angola  AGO  Men  2004   \n",
              "\n",
              "     Age-standardised diabetes prevalence  Lower 95% uncertainty interval  \\\n",
              "0                                0.044712                        0.015339   \n",
              "1                                0.046114                        0.016883   \n",
              "2                                0.047601                        0.018745   \n",
              "3                                0.049173                        0.020375   \n",
              "4                                0.050834                        0.022269   \n",
              "..                                    ...                             ...   \n",
              "195                              0.053250                        0.028657   \n",
              "196                              0.055094                        0.029983   \n",
              "197                              0.057113                        0.031255   \n",
              "198                              0.059203                        0.032907   \n",
              "199                              0.061393                        0.034429   \n",
              "\n",
              "     Upper 95% uncertainty interval  \n",
              "0                          0.094918  \n",
              "1                          0.093777  \n",
              "2                          0.094018  \n",
              "3                          0.093950  \n",
              "4                          0.093679  \n",
              "..                              ...  \n",
              "195                        0.087909  \n",
              "196                        0.090278  \n",
              "197                        0.093183  \n",
              "198                        0.096256  \n",
              "199                        0.099745  \n",
              "\n",
              "[200 rows x 7 columns]"
            ],
            "text/html": [
              "\n",
              "  <div id=\"df-c73127d1-9e8c-4ec8-8c9c-c047388bf1d8\">\n",
              "    <div class=\"colab-df-container\">\n",
              "      <div>\n",
              "<style scoped>\n",
              "    .dataframe tbody tr th:only-of-type {\n",
              "        vertical-align: middle;\n",
              "    }\n",
              "\n",
              "    .dataframe tbody tr th {\n",
              "        vertical-align: top;\n",
              "    }\n",
              "\n",
              "    .dataframe thead th {\n",
              "        text-align: right;\n",
              "    }\n",
              "</style>\n",
              "<table border=\"1\" class=\"dataframe\">\n",
              "  <thead>\n",
              "    <tr style=\"text-align: right;\">\n",
              "      <th></th>\n",
              "      <th>Country/Region/World</th>\n",
              "      <th>ISO</th>\n",
              "      <th>Sex</th>\n",
              "      <th>Year</th>\n",
              "      <th>Age-standardised diabetes prevalence</th>\n",
              "      <th>Lower 95% uncertainty interval</th>\n",
              "      <th>Upper 95% uncertainty interval</th>\n",
              "    </tr>\n",
              "  </thead>\n",
              "  <tbody>\n",
              "    <tr>\n",
              "      <th>0</th>\n",
              "      <td>Afghanistan</td>\n",
              "      <td>AFG</td>\n",
              "      <td>Men</td>\n",
              "      <td>1980</td>\n",
              "      <td>0.044712</td>\n",
              "      <td>0.015339</td>\n",
              "      <td>0.094918</td>\n",
              "    </tr>\n",
              "    <tr>\n",
              "      <th>1</th>\n",
              "      <td>Afghanistan</td>\n",
              "      <td>AFG</td>\n",
              "      <td>Men</td>\n",
              "      <td>1981</td>\n",
              "      <td>0.046114</td>\n",
              "      <td>0.016883</td>\n",
              "      <td>0.093777</td>\n",
              "    </tr>\n",
              "    <tr>\n",
              "      <th>2</th>\n",
              "      <td>Afghanistan</td>\n",
              "      <td>AFG</td>\n",
              "      <td>Men</td>\n",
              "      <td>1982</td>\n",
              "      <td>0.047601</td>\n",
              "      <td>0.018745</td>\n",
              "      <td>0.094018</td>\n",
              "    </tr>\n",
              "    <tr>\n",
              "      <th>3</th>\n",
              "      <td>Afghanistan</td>\n",
              "      <td>AFG</td>\n",
              "      <td>Men</td>\n",
              "      <td>1983</td>\n",
              "      <td>0.049173</td>\n",
              "      <td>0.020375</td>\n",
              "      <td>0.093950</td>\n",
              "    </tr>\n",
              "    <tr>\n",
              "      <th>4</th>\n",
              "      <td>Afghanistan</td>\n",
              "      <td>AFG</td>\n",
              "      <td>Men</td>\n",
              "      <td>1984</td>\n",
              "      <td>0.050834</td>\n",
              "      <td>0.022269</td>\n",
              "      <td>0.093679</td>\n",
              "    </tr>\n",
              "    <tr>\n",
              "      <th>...</th>\n",
              "      <td>...</td>\n",
              "      <td>...</td>\n",
              "      <td>...</td>\n",
              "      <td>...</td>\n",
              "      <td>...</td>\n",
              "      <td>...</td>\n",
              "      <td>...</td>\n",
              "    </tr>\n",
              "    <tr>\n",
              "      <th>195</th>\n",
              "      <td>Angola</td>\n",
              "      <td>AGO</td>\n",
              "      <td>Men</td>\n",
              "      <td>2000</td>\n",
              "      <td>0.053250</td>\n",
              "      <td>0.028657</td>\n",
              "      <td>0.087909</td>\n",
              "    </tr>\n",
              "    <tr>\n",
              "      <th>196</th>\n",
              "      <td>Angola</td>\n",
              "      <td>AGO</td>\n",
              "      <td>Men</td>\n",
              "      <td>2001</td>\n",
              "      <td>0.055094</td>\n",
              "      <td>0.029983</td>\n",
              "      <td>0.090278</td>\n",
              "    </tr>\n",
              "    <tr>\n",
              "      <th>197</th>\n",
              "      <td>Angola</td>\n",
              "      <td>AGO</td>\n",
              "      <td>Men</td>\n",
              "      <td>2002</td>\n",
              "      <td>0.057113</td>\n",
              "      <td>0.031255</td>\n",
              "      <td>0.093183</td>\n",
              "    </tr>\n",
              "    <tr>\n",
              "      <th>198</th>\n",
              "      <td>Angola</td>\n",
              "      <td>AGO</td>\n",
              "      <td>Men</td>\n",
              "      <td>2003</td>\n",
              "      <td>0.059203</td>\n",
              "      <td>0.032907</td>\n",
              "      <td>0.096256</td>\n",
              "    </tr>\n",
              "    <tr>\n",
              "      <th>199</th>\n",
              "      <td>Angola</td>\n",
              "      <td>AGO</td>\n",
              "      <td>Men</td>\n",
              "      <td>2004</td>\n",
              "      <td>0.061393</td>\n",
              "      <td>0.034429</td>\n",
              "      <td>0.099745</td>\n",
              "    </tr>\n",
              "  </tbody>\n",
              "</table>\n",
              "<p>200 rows × 7 columns</p>\n",
              "</div>\n",
              "      <button class=\"colab-df-convert\" onclick=\"convertToInteractive('df-c73127d1-9e8c-4ec8-8c9c-c047388bf1d8')\"\n",
              "              title=\"Convert this dataframe to an interactive table.\"\n",
              "              style=\"display:none;\">\n",
              "        \n",
              "  <svg xmlns=\"http://www.w3.org/2000/svg\" height=\"24px\"viewBox=\"0 0 24 24\"\n",
              "       width=\"24px\">\n",
              "    <path d=\"M0 0h24v24H0V0z\" fill=\"none\"/>\n",
              "    <path d=\"M18.56 5.44l.94 2.06.94-2.06 2.06-.94-2.06-.94-.94-2.06-.94 2.06-2.06.94zm-11 1L8.5 8.5l.94-2.06 2.06-.94-2.06-.94L8.5 2.5l-.94 2.06-2.06.94zm10 10l.94 2.06.94-2.06 2.06-.94-2.06-.94-.94-2.06-.94 2.06-2.06.94z\"/><path d=\"M17.41 7.96l-1.37-1.37c-.4-.4-.92-.59-1.43-.59-.52 0-1.04.2-1.43.59L10.3 9.45l-7.72 7.72c-.78.78-.78 2.05 0 2.83L4 21.41c.39.39.9.59 1.41.59.51 0 1.02-.2 1.41-.59l7.78-7.78 2.81-2.81c.8-.78.8-2.07 0-2.86zM5.41 20L4 18.59l7.72-7.72 1.47 1.35L5.41 20z\"/>\n",
              "  </svg>\n",
              "      </button>\n",
              "      \n",
              "  <style>\n",
              "    .colab-df-container {\n",
              "      display:flex;\n",
              "      flex-wrap:wrap;\n",
              "      gap: 12px;\n",
              "    }\n",
              "\n",
              "    .colab-df-convert {\n",
              "      background-color: #E8F0FE;\n",
              "      border: none;\n",
              "      border-radius: 50%;\n",
              "      cursor: pointer;\n",
              "      display: none;\n",
              "      fill: #1967D2;\n",
              "      height: 32px;\n",
              "      padding: 0 0 0 0;\n",
              "      width: 32px;\n",
              "    }\n",
              "\n",
              "    .colab-df-convert:hover {\n",
              "      background-color: #E2EBFA;\n",
              "      box-shadow: 0px 1px 2px rgba(60, 64, 67, 0.3), 0px 1px 3px 1px rgba(60, 64, 67, 0.15);\n",
              "      fill: #174EA6;\n",
              "    }\n",
              "\n",
              "    [theme=dark] .colab-df-convert {\n",
              "      background-color: #3B4455;\n",
              "      fill: #D2E3FC;\n",
              "    }\n",
              "\n",
              "    [theme=dark] .colab-df-convert:hover {\n",
              "      background-color: #434B5C;\n",
              "      box-shadow: 0px 1px 3px 1px rgba(0, 0, 0, 0.15);\n",
              "      filter: drop-shadow(0px 1px 2px rgba(0, 0, 0, 0.3));\n",
              "      fill: #FFFFFF;\n",
              "    }\n",
              "  </style>\n",
              "\n",
              "      <script>\n",
              "        const buttonEl =\n",
              "          document.querySelector('#df-c73127d1-9e8c-4ec8-8c9c-c047388bf1d8 button.colab-df-convert');\n",
              "        buttonEl.style.display =\n",
              "          google.colab.kernel.accessAllowed ? 'block' : 'none';\n",
              "\n",
              "        async function convertToInteractive(key) {\n",
              "          const element = document.querySelector('#df-c73127d1-9e8c-4ec8-8c9c-c047388bf1d8');\n",
              "          const dataTable =\n",
              "            await google.colab.kernel.invokeFunction('convertToInteractive',\n",
              "                                                     [key], {});\n",
              "          if (!dataTable) return;\n",
              "\n",
              "          const docLinkHtml = 'Like what you see? Visit the ' +\n",
              "            '<a target=\"_blank\" href=https://colab.research.google.com/notebooks/data_table.ipynb>data table notebook</a>'\n",
              "            + ' to learn more about interactive tables.';\n",
              "          element.innerHTML = '';\n",
              "          dataTable['output_type'] = 'display_data';\n",
              "          await google.colab.output.renderOutput(dataTable, element);\n",
              "          const docLink = document.createElement('div');\n",
              "          docLink.innerHTML = docLinkHtml;\n",
              "          element.appendChild(docLink);\n",
              "        }\n",
              "      </script>\n",
              "    </div>\n",
              "  </div>\n",
              "  "
            ]
          },
          "metadata": {},
          "execution_count": 146
        }
      ]
    },
    {
      "cell_type": "code",
      "source": [
        "diabetes.info()"
      ],
      "metadata": {
        "colab": {
          "base_uri": "https://localhost:8080/"
        },
        "id": "lNI2ApY7VQEp",
        "outputId": "0a37ad3e-46f7-48f1-c1ef-938b89ad090e"
      },
      "execution_count": null,
      "outputs": [
        {
          "output_type": "stream",
          "name": "stdout",
          "text": [
            "<class 'pandas.core.frame.DataFrame'>\n",
            "RangeIndex: 14000 entries, 0 to 13999\n",
            "Data columns (total 7 columns):\n",
            " #   Column                                Non-Null Count  Dtype  \n",
            "---  ------                                --------------  -----  \n",
            " 0   Country/Region/World                  14000 non-null  object \n",
            " 1   ISO                                   14000 non-null  object \n",
            " 2   Sex                                   14000 non-null  object \n",
            " 3   Year                                  14000 non-null  int64  \n",
            " 4   Age-standardised diabetes prevalence  14000 non-null  float64\n",
            " 5   Lower 95% uncertainty interval        14000 non-null  float64\n",
            " 6   Upper 95% uncertainty interval        14000 non-null  float64\n",
            "dtypes: float64(3), int64(1), object(3)\n",
            "memory usage: 765.8+ KB\n"
          ]
        }
      ]
    },
    {
      "cell_type": "markdown",
      "source": [
        "# % Completitud \n",
        "La tabla no contiene ningún dato nulo, he allí que su carácter sea completo "
      ],
      "metadata": {
        "id": "mjoXq6sAZSmX"
      }
    },
    {
      "cell_type": "code",
      "source": [
        "# NA ?\n",
        "diabetes.isnull().sum()\n"
      ],
      "metadata": {
        "colab": {
          "base_uri": "https://localhost:8080/"
        },
        "id": "yCRUGIWwZpvv",
        "outputId": "73c2c396-ed00-4ed6-b3af-9917783fb3e3"
      },
      "execution_count": null,
      "outputs": [
        {
          "output_type": "execute_result",
          "data": {
            "text/plain": [
              "Country/Region/World                    0\n",
              "ISO                                     0\n",
              "Sex                                     0\n",
              "Year                                    0\n",
              "Age-standardised diabetes prevalence    0\n",
              "Lower 95% uncertainty interval          0\n",
              "Upper 95% uncertainty interval          0\n",
              "dtype: int64"
            ]
          },
          "metadata": {},
          "execution_count": 148
        }
      ]
    },
    {
      "cell_type": "code",
      "source": [
        "diabetes.notnull().sum()"
      ],
      "metadata": {
        "colab": {
          "base_uri": "https://localhost:8080/"
        },
        "id": "K0iwMV8wbS1H",
        "outputId": "597fe5d6-67f6-44f7-8859-aee556291344"
      },
      "execution_count": null,
      "outputs": [
        {
          "output_type": "execute_result",
          "data": {
            "text/plain": [
              "Country/Region/World                    14000\n",
              "ISO                                     14000\n",
              "Sex                                     14000\n",
              "Year                                    14000\n",
              "Age-standardised diabetes prevalence    14000\n",
              "Lower 95% uncertainty interval          14000\n",
              "Upper 95% uncertainty interval          14000\n",
              "dtype: int64"
            ]
          },
          "metadata": {},
          "execution_count": 149
        }
      ]
    },
    {
      "cell_type": "markdown",
      "source": [
        "### Parte 2: Data Wrangling"
      ],
      "metadata": {
        "id": "kw7kM6torHyg"
      }
    },
    {
      "cell_type": "markdown",
      "source": [
        "# ¿NA son eliminables?\n",
        "No es necesarios eliminarlos dado que carece de valor nulo"
      ],
      "metadata": {
        "id": "1tneBwV1b-mQ"
      }
    },
    {
      "cell_type": "code",
      "source": [
        "# renombrar columnas...\n",
        "diabetes = diabetes.rename(columns={'Country/Region/World': 'País', 'ISO': 'Cod.País', 'Sex': 'Sexo', 'Year': 'Año', 'Age-standardised diabetes prevalence': 'Diabetes.Por.Edad', 'Lower 95% uncertainty interval': 'Incertidumbre.Menor95%', 'Upper 95% uncertainty interval': 'Incertidumbre.Mayor95%'})\n",
        "print(diabetes)\n",
        "\n"
      ],
      "metadata": {
        "id": "zXBQnzK3rJSg",
        "colab": {
          "base_uri": "https://localhost:8080/"
        },
        "outputId": "b89ba5bb-0c9b-4189-c6dc-4e93e8c1984b"
      },
      "execution_count": null,
      "outputs": [
        {
          "output_type": "stream",
          "name": "stdout",
          "text": [
            "              País Cod.País   Sexo   Año  Diabetes.Por.Edad  \\\n",
            "0      Afghanistan      AFG    Men  1980           0.044712   \n",
            "1      Afghanistan      AFG    Men  1981           0.046114   \n",
            "2      Afghanistan      AFG    Men  1982           0.047601   \n",
            "3      Afghanistan      AFG    Men  1983           0.049173   \n",
            "4      Afghanistan      AFG    Men  1984           0.050834   \n",
            "...            ...      ...    ...   ...                ...   \n",
            "13995     Zimbabwe      ZWE  Women  2010           0.072249   \n",
            "13996     Zimbabwe      ZWE  Women  2011           0.072956   \n",
            "13997     Zimbabwe      ZWE  Women  2012           0.073752   \n",
            "13998     Zimbabwe      ZWE  Women  2013           0.074616   \n",
            "13999     Zimbabwe      ZWE  Women  2014           0.075607   \n",
            "\n",
            "       Incertidumbre.Menor95%  Incertidumbre.Mayor95%  \n",
            "0                    0.015339                0.094918  \n",
            "1                    0.016883                0.093777  \n",
            "2                    0.018745                0.094018  \n",
            "3                    0.020375                0.093950  \n",
            "4                    0.022269                0.093679  \n",
            "...                       ...                     ...  \n",
            "13995                0.043879                0.108806  \n",
            "13996                0.042840                0.112512  \n",
            "13997                0.041895                0.116488  \n",
            "13998                0.040434                0.121880  \n",
            "13999                0.039080                0.127219  \n",
            "\n",
            "[14000 rows x 7 columns]\n"
          ]
        }
      ]
    },
    {
      "cell_type": "code",
      "source": [
        "# iloc/ filtro de los datos que nos interesan\n",
        "diabetes.iloc[:, [1, 2, 6]]"
      ],
      "metadata": {
        "colab": {
          "base_uri": "https://localhost:8080/",
          "height": 423
        },
        "id": "arOHJXjnhrK4",
        "outputId": "c54c54c8-5d89-4b83-fd65-317675e3295a"
      },
      "execution_count": null,
      "outputs": [
        {
          "output_type": "execute_result",
          "data": {
            "text/plain": [
              "      Cod.País   Sexo  Incertidumbre.Mayor95%\n",
              "0          AFG    Men                0.094918\n",
              "1          AFG    Men                0.093777\n",
              "2          AFG    Men                0.094018\n",
              "3          AFG    Men                0.093950\n",
              "4          AFG    Men                0.093679\n",
              "...        ...    ...                     ...\n",
              "13995      ZWE  Women                0.108806\n",
              "13996      ZWE  Women                0.112512\n",
              "13997      ZWE  Women                0.116488\n",
              "13998      ZWE  Women                0.121880\n",
              "13999      ZWE  Women                0.127219\n",
              "\n",
              "[14000 rows x 3 columns]"
            ],
            "text/html": [
              "\n",
              "  <div id=\"df-fcac0f46-8156-4c72-916b-5ce355ced5fe\">\n",
              "    <div class=\"colab-df-container\">\n",
              "      <div>\n",
              "<style scoped>\n",
              "    .dataframe tbody tr th:only-of-type {\n",
              "        vertical-align: middle;\n",
              "    }\n",
              "\n",
              "    .dataframe tbody tr th {\n",
              "        vertical-align: top;\n",
              "    }\n",
              "\n",
              "    .dataframe thead th {\n",
              "        text-align: right;\n",
              "    }\n",
              "</style>\n",
              "<table border=\"1\" class=\"dataframe\">\n",
              "  <thead>\n",
              "    <tr style=\"text-align: right;\">\n",
              "      <th></th>\n",
              "      <th>Cod.País</th>\n",
              "      <th>Sexo</th>\n",
              "      <th>Incertidumbre.Mayor95%</th>\n",
              "    </tr>\n",
              "  </thead>\n",
              "  <tbody>\n",
              "    <tr>\n",
              "      <th>0</th>\n",
              "      <td>AFG</td>\n",
              "      <td>Men</td>\n",
              "      <td>0.094918</td>\n",
              "    </tr>\n",
              "    <tr>\n",
              "      <th>1</th>\n",
              "      <td>AFG</td>\n",
              "      <td>Men</td>\n",
              "      <td>0.093777</td>\n",
              "    </tr>\n",
              "    <tr>\n",
              "      <th>2</th>\n",
              "      <td>AFG</td>\n",
              "      <td>Men</td>\n",
              "      <td>0.094018</td>\n",
              "    </tr>\n",
              "    <tr>\n",
              "      <th>3</th>\n",
              "      <td>AFG</td>\n",
              "      <td>Men</td>\n",
              "      <td>0.093950</td>\n",
              "    </tr>\n",
              "    <tr>\n",
              "      <th>4</th>\n",
              "      <td>AFG</td>\n",
              "      <td>Men</td>\n",
              "      <td>0.093679</td>\n",
              "    </tr>\n",
              "    <tr>\n",
              "      <th>...</th>\n",
              "      <td>...</td>\n",
              "      <td>...</td>\n",
              "      <td>...</td>\n",
              "    </tr>\n",
              "    <tr>\n",
              "      <th>13995</th>\n",
              "      <td>ZWE</td>\n",
              "      <td>Women</td>\n",
              "      <td>0.108806</td>\n",
              "    </tr>\n",
              "    <tr>\n",
              "      <th>13996</th>\n",
              "      <td>ZWE</td>\n",
              "      <td>Women</td>\n",
              "      <td>0.112512</td>\n",
              "    </tr>\n",
              "    <tr>\n",
              "      <th>13997</th>\n",
              "      <td>ZWE</td>\n",
              "      <td>Women</td>\n",
              "      <td>0.116488</td>\n",
              "    </tr>\n",
              "    <tr>\n",
              "      <th>13998</th>\n",
              "      <td>ZWE</td>\n",
              "      <td>Women</td>\n",
              "      <td>0.121880</td>\n",
              "    </tr>\n",
              "    <tr>\n",
              "      <th>13999</th>\n",
              "      <td>ZWE</td>\n",
              "      <td>Women</td>\n",
              "      <td>0.127219</td>\n",
              "    </tr>\n",
              "  </tbody>\n",
              "</table>\n",
              "<p>14000 rows × 3 columns</p>\n",
              "</div>\n",
              "      <button class=\"colab-df-convert\" onclick=\"convertToInteractive('df-fcac0f46-8156-4c72-916b-5ce355ced5fe')\"\n",
              "              title=\"Convert this dataframe to an interactive table.\"\n",
              "              style=\"display:none;\">\n",
              "        \n",
              "  <svg xmlns=\"http://www.w3.org/2000/svg\" height=\"24px\"viewBox=\"0 0 24 24\"\n",
              "       width=\"24px\">\n",
              "    <path d=\"M0 0h24v24H0V0z\" fill=\"none\"/>\n",
              "    <path d=\"M18.56 5.44l.94 2.06.94-2.06 2.06-.94-2.06-.94-.94-2.06-.94 2.06-2.06.94zm-11 1L8.5 8.5l.94-2.06 2.06-.94-2.06-.94L8.5 2.5l-.94 2.06-2.06.94zm10 10l.94 2.06.94-2.06 2.06-.94-2.06-.94-.94-2.06-.94 2.06-2.06.94z\"/><path d=\"M17.41 7.96l-1.37-1.37c-.4-.4-.92-.59-1.43-.59-.52 0-1.04.2-1.43.59L10.3 9.45l-7.72 7.72c-.78.78-.78 2.05 0 2.83L4 21.41c.39.39.9.59 1.41.59.51 0 1.02-.2 1.41-.59l7.78-7.78 2.81-2.81c.8-.78.8-2.07 0-2.86zM5.41 20L4 18.59l7.72-7.72 1.47 1.35L5.41 20z\"/>\n",
              "  </svg>\n",
              "      </button>\n",
              "      \n",
              "  <style>\n",
              "    .colab-df-container {\n",
              "      display:flex;\n",
              "      flex-wrap:wrap;\n",
              "      gap: 12px;\n",
              "    }\n",
              "\n",
              "    .colab-df-convert {\n",
              "      background-color: #E8F0FE;\n",
              "      border: none;\n",
              "      border-radius: 50%;\n",
              "      cursor: pointer;\n",
              "      display: none;\n",
              "      fill: #1967D2;\n",
              "      height: 32px;\n",
              "      padding: 0 0 0 0;\n",
              "      width: 32px;\n",
              "    }\n",
              "\n",
              "    .colab-df-convert:hover {\n",
              "      background-color: #E2EBFA;\n",
              "      box-shadow: 0px 1px 2px rgba(60, 64, 67, 0.3), 0px 1px 3px 1px rgba(60, 64, 67, 0.15);\n",
              "      fill: #174EA6;\n",
              "    }\n",
              "\n",
              "    [theme=dark] .colab-df-convert {\n",
              "      background-color: #3B4455;\n",
              "      fill: #D2E3FC;\n",
              "    }\n",
              "\n",
              "    [theme=dark] .colab-df-convert:hover {\n",
              "      background-color: #434B5C;\n",
              "      box-shadow: 0px 1px 3px 1px rgba(0, 0, 0, 0.15);\n",
              "      filter: drop-shadow(0px 1px 2px rgba(0, 0, 0, 0.3));\n",
              "      fill: #FFFFFF;\n",
              "    }\n",
              "  </style>\n",
              "\n",
              "      <script>\n",
              "        const buttonEl =\n",
              "          document.querySelector('#df-fcac0f46-8156-4c72-916b-5ce355ced5fe button.colab-df-convert');\n",
              "        buttonEl.style.display =\n",
              "          google.colab.kernel.accessAllowed ? 'block' : 'none';\n",
              "\n",
              "        async function convertToInteractive(key) {\n",
              "          const element = document.querySelector('#df-fcac0f46-8156-4c72-916b-5ce355ced5fe');\n",
              "          const dataTable =\n",
              "            await google.colab.kernel.invokeFunction('convertToInteractive',\n",
              "                                                     [key], {});\n",
              "          if (!dataTable) return;\n",
              "\n",
              "          const docLinkHtml = 'Like what you see? Visit the ' +\n",
              "            '<a target=\"_blank\" href=https://colab.research.google.com/notebooks/data_table.ipynb>data table notebook</a>'\n",
              "            + ' to learn more about interactive tables.';\n",
              "          element.innerHTML = '';\n",
              "          dataTable['output_type'] = 'display_data';\n",
              "          await google.colab.output.renderOutput(dataTable, element);\n",
              "          const docLink = document.createElement('div');\n",
              "          docLink.innerHTML = docLinkHtml;\n",
              "          element.appendChild(docLink);\n",
              "        }\n",
              "      </script>\n",
              "    </div>\n",
              "  </div>\n",
              "  "
            ]
          },
          "metadata": {},
          "execution_count": 151
        }
      ]
    },
    {
      "cell_type": "code",
      "source": [
        "# Crear columnas\n",
        "diabetes[\"Media\"] = (diabetes[\"Incertidumbre.Menor95%\"] + diabetes[\"Incertidumbre.Menor95%\"]) / 2\n",
        "diabetes\n"
      ],
      "metadata": {
        "colab": {
          "base_uri": "https://localhost:8080/",
          "height": 423
        },
        "id": "KRWTJxdkl1He",
        "outputId": "adce96a4-c2f4-4ca9-dc96-99e7f91b2d52"
      },
      "execution_count": null,
      "outputs": [
        {
          "output_type": "execute_result",
          "data": {
            "text/plain": [
              "              País Cod.País   Sexo   Año  Diabetes.Por.Edad  \\\n",
              "0      Afghanistan      AFG    Men  1980           0.044712   \n",
              "1      Afghanistan      AFG    Men  1981           0.046114   \n",
              "2      Afghanistan      AFG    Men  1982           0.047601   \n",
              "3      Afghanistan      AFG    Men  1983           0.049173   \n",
              "4      Afghanistan      AFG    Men  1984           0.050834   \n",
              "...            ...      ...    ...   ...                ...   \n",
              "13995     Zimbabwe      ZWE  Women  2010           0.072249   \n",
              "13996     Zimbabwe      ZWE  Women  2011           0.072956   \n",
              "13997     Zimbabwe      ZWE  Women  2012           0.073752   \n",
              "13998     Zimbabwe      ZWE  Women  2013           0.074616   \n",
              "13999     Zimbabwe      ZWE  Women  2014           0.075607   \n",
              "\n",
              "       Incertidumbre.Menor95%  Incertidumbre.Mayor95%     Media  \n",
              "0                    0.015339                0.094918  0.015339  \n",
              "1                    0.016883                0.093777  0.016883  \n",
              "2                    0.018745                0.094018  0.018745  \n",
              "3                    0.020375                0.093950  0.020375  \n",
              "4                    0.022269                0.093679  0.022269  \n",
              "...                       ...                     ...       ...  \n",
              "13995                0.043879                0.108806  0.043879  \n",
              "13996                0.042840                0.112512  0.042840  \n",
              "13997                0.041895                0.116488  0.041895  \n",
              "13998                0.040434                0.121880  0.040434  \n",
              "13999                0.039080                0.127219  0.039080  \n",
              "\n",
              "[14000 rows x 8 columns]"
            ],
            "text/html": [
              "\n",
              "  <div id=\"df-16eacf45-2a97-4598-9e2d-27c19e576cbd\">\n",
              "    <div class=\"colab-df-container\">\n",
              "      <div>\n",
              "<style scoped>\n",
              "    .dataframe tbody tr th:only-of-type {\n",
              "        vertical-align: middle;\n",
              "    }\n",
              "\n",
              "    .dataframe tbody tr th {\n",
              "        vertical-align: top;\n",
              "    }\n",
              "\n",
              "    .dataframe thead th {\n",
              "        text-align: right;\n",
              "    }\n",
              "</style>\n",
              "<table border=\"1\" class=\"dataframe\">\n",
              "  <thead>\n",
              "    <tr style=\"text-align: right;\">\n",
              "      <th></th>\n",
              "      <th>País</th>\n",
              "      <th>Cod.País</th>\n",
              "      <th>Sexo</th>\n",
              "      <th>Año</th>\n",
              "      <th>Diabetes.Por.Edad</th>\n",
              "      <th>Incertidumbre.Menor95%</th>\n",
              "      <th>Incertidumbre.Mayor95%</th>\n",
              "      <th>Media</th>\n",
              "    </tr>\n",
              "  </thead>\n",
              "  <tbody>\n",
              "    <tr>\n",
              "      <th>0</th>\n",
              "      <td>Afghanistan</td>\n",
              "      <td>AFG</td>\n",
              "      <td>Men</td>\n",
              "      <td>1980</td>\n",
              "      <td>0.044712</td>\n",
              "      <td>0.015339</td>\n",
              "      <td>0.094918</td>\n",
              "      <td>0.015339</td>\n",
              "    </tr>\n",
              "    <tr>\n",
              "      <th>1</th>\n",
              "      <td>Afghanistan</td>\n",
              "      <td>AFG</td>\n",
              "      <td>Men</td>\n",
              "      <td>1981</td>\n",
              "      <td>0.046114</td>\n",
              "      <td>0.016883</td>\n",
              "      <td>0.093777</td>\n",
              "      <td>0.016883</td>\n",
              "    </tr>\n",
              "    <tr>\n",
              "      <th>2</th>\n",
              "      <td>Afghanistan</td>\n",
              "      <td>AFG</td>\n",
              "      <td>Men</td>\n",
              "      <td>1982</td>\n",
              "      <td>0.047601</td>\n",
              "      <td>0.018745</td>\n",
              "      <td>0.094018</td>\n",
              "      <td>0.018745</td>\n",
              "    </tr>\n",
              "    <tr>\n",
              "      <th>3</th>\n",
              "      <td>Afghanistan</td>\n",
              "      <td>AFG</td>\n",
              "      <td>Men</td>\n",
              "      <td>1983</td>\n",
              "      <td>0.049173</td>\n",
              "      <td>0.020375</td>\n",
              "      <td>0.093950</td>\n",
              "      <td>0.020375</td>\n",
              "    </tr>\n",
              "    <tr>\n",
              "      <th>4</th>\n",
              "      <td>Afghanistan</td>\n",
              "      <td>AFG</td>\n",
              "      <td>Men</td>\n",
              "      <td>1984</td>\n",
              "      <td>0.050834</td>\n",
              "      <td>0.022269</td>\n",
              "      <td>0.093679</td>\n",
              "      <td>0.022269</td>\n",
              "    </tr>\n",
              "    <tr>\n",
              "      <th>...</th>\n",
              "      <td>...</td>\n",
              "      <td>...</td>\n",
              "      <td>...</td>\n",
              "      <td>...</td>\n",
              "      <td>...</td>\n",
              "      <td>...</td>\n",
              "      <td>...</td>\n",
              "      <td>...</td>\n",
              "    </tr>\n",
              "    <tr>\n",
              "      <th>13995</th>\n",
              "      <td>Zimbabwe</td>\n",
              "      <td>ZWE</td>\n",
              "      <td>Women</td>\n",
              "      <td>2010</td>\n",
              "      <td>0.072249</td>\n",
              "      <td>0.043879</td>\n",
              "      <td>0.108806</td>\n",
              "      <td>0.043879</td>\n",
              "    </tr>\n",
              "    <tr>\n",
              "      <th>13996</th>\n",
              "      <td>Zimbabwe</td>\n",
              "      <td>ZWE</td>\n",
              "      <td>Women</td>\n",
              "      <td>2011</td>\n",
              "      <td>0.072956</td>\n",
              "      <td>0.042840</td>\n",
              "      <td>0.112512</td>\n",
              "      <td>0.042840</td>\n",
              "    </tr>\n",
              "    <tr>\n",
              "      <th>13997</th>\n",
              "      <td>Zimbabwe</td>\n",
              "      <td>ZWE</td>\n",
              "      <td>Women</td>\n",
              "      <td>2012</td>\n",
              "      <td>0.073752</td>\n",
              "      <td>0.041895</td>\n",
              "      <td>0.116488</td>\n",
              "      <td>0.041895</td>\n",
              "    </tr>\n",
              "    <tr>\n",
              "      <th>13998</th>\n",
              "      <td>Zimbabwe</td>\n",
              "      <td>ZWE</td>\n",
              "      <td>Women</td>\n",
              "      <td>2013</td>\n",
              "      <td>0.074616</td>\n",
              "      <td>0.040434</td>\n",
              "      <td>0.121880</td>\n",
              "      <td>0.040434</td>\n",
              "    </tr>\n",
              "    <tr>\n",
              "      <th>13999</th>\n",
              "      <td>Zimbabwe</td>\n",
              "      <td>ZWE</td>\n",
              "      <td>Women</td>\n",
              "      <td>2014</td>\n",
              "      <td>0.075607</td>\n",
              "      <td>0.039080</td>\n",
              "      <td>0.127219</td>\n",
              "      <td>0.039080</td>\n",
              "    </tr>\n",
              "  </tbody>\n",
              "</table>\n",
              "<p>14000 rows × 8 columns</p>\n",
              "</div>\n",
              "      <button class=\"colab-df-convert\" onclick=\"convertToInteractive('df-16eacf45-2a97-4598-9e2d-27c19e576cbd')\"\n",
              "              title=\"Convert this dataframe to an interactive table.\"\n",
              "              style=\"display:none;\">\n",
              "        \n",
              "  <svg xmlns=\"http://www.w3.org/2000/svg\" height=\"24px\"viewBox=\"0 0 24 24\"\n",
              "       width=\"24px\">\n",
              "    <path d=\"M0 0h24v24H0V0z\" fill=\"none\"/>\n",
              "    <path d=\"M18.56 5.44l.94 2.06.94-2.06 2.06-.94-2.06-.94-.94-2.06-.94 2.06-2.06.94zm-11 1L8.5 8.5l.94-2.06 2.06-.94-2.06-.94L8.5 2.5l-.94 2.06-2.06.94zm10 10l.94 2.06.94-2.06 2.06-.94-2.06-.94-.94-2.06-.94 2.06-2.06.94z\"/><path d=\"M17.41 7.96l-1.37-1.37c-.4-.4-.92-.59-1.43-.59-.52 0-1.04.2-1.43.59L10.3 9.45l-7.72 7.72c-.78.78-.78 2.05 0 2.83L4 21.41c.39.39.9.59 1.41.59.51 0 1.02-.2 1.41-.59l7.78-7.78 2.81-2.81c.8-.78.8-2.07 0-2.86zM5.41 20L4 18.59l7.72-7.72 1.47 1.35L5.41 20z\"/>\n",
              "  </svg>\n",
              "      </button>\n",
              "      \n",
              "  <style>\n",
              "    .colab-df-container {\n",
              "      display:flex;\n",
              "      flex-wrap:wrap;\n",
              "      gap: 12px;\n",
              "    }\n",
              "\n",
              "    .colab-df-convert {\n",
              "      background-color: #E8F0FE;\n",
              "      border: none;\n",
              "      border-radius: 50%;\n",
              "      cursor: pointer;\n",
              "      display: none;\n",
              "      fill: #1967D2;\n",
              "      height: 32px;\n",
              "      padding: 0 0 0 0;\n",
              "      width: 32px;\n",
              "    }\n",
              "\n",
              "    .colab-df-convert:hover {\n",
              "      background-color: #E2EBFA;\n",
              "      box-shadow: 0px 1px 2px rgba(60, 64, 67, 0.3), 0px 1px 3px 1px rgba(60, 64, 67, 0.15);\n",
              "      fill: #174EA6;\n",
              "    }\n",
              "\n",
              "    [theme=dark] .colab-df-convert {\n",
              "      background-color: #3B4455;\n",
              "      fill: #D2E3FC;\n",
              "    }\n",
              "\n",
              "    [theme=dark] .colab-df-convert:hover {\n",
              "      background-color: #434B5C;\n",
              "      box-shadow: 0px 1px 3px 1px rgba(0, 0, 0, 0.15);\n",
              "      filter: drop-shadow(0px 1px 2px rgba(0, 0, 0, 0.3));\n",
              "      fill: #FFFFFF;\n",
              "    }\n",
              "  </style>\n",
              "\n",
              "      <script>\n",
              "        const buttonEl =\n",
              "          document.querySelector('#df-16eacf45-2a97-4598-9e2d-27c19e576cbd button.colab-df-convert');\n",
              "        buttonEl.style.display =\n",
              "          google.colab.kernel.accessAllowed ? 'block' : 'none';\n",
              "\n",
              "        async function convertToInteractive(key) {\n",
              "          const element = document.querySelector('#df-16eacf45-2a97-4598-9e2d-27c19e576cbd');\n",
              "          const dataTable =\n",
              "            await google.colab.kernel.invokeFunction('convertToInteractive',\n",
              "                                                     [key], {});\n",
              "          if (!dataTable) return;\n",
              "\n",
              "          const docLinkHtml = 'Like what you see? Visit the ' +\n",
              "            '<a target=\"_blank\" href=https://colab.research.google.com/notebooks/data_table.ipynb>data table notebook</a>'\n",
              "            + ' to learn more about interactive tables.';\n",
              "          element.innerHTML = '';\n",
              "          dataTable['output_type'] = 'display_data';\n",
              "          await google.colab.output.renderOutput(dataTable, element);\n",
              "          const docLink = document.createElement('div');\n",
              "          docLink.innerHTML = docLinkHtml;\n",
              "          element.appendChild(docLink);\n",
              "        }\n",
              "      </script>\n",
              "    </div>\n",
              "  </div>\n",
              "  "
            ]
          },
          "metadata": {},
          "execution_count": 152
        }
      ]
    },
    {
      "cell_type": "markdown",
      "source": [
        "### El dataset que nos interesa para los objetivos"
      ],
      "metadata": {
        "id": "GxOedI9brZr7"
      }
    },
    {
      "cell_type": "code",
      "source": [
        "# Operar sobre ellas\n",
        "# - Objetivo 1: localizar el país con más diabetes \n",
        "# - Objetivo 2: los hombres tienen más diabetes que las mujeres (true or false)\n",
        "# - Objetivo 3: ¿Cuáles son los 3 países con más diabetes ?\n",
        "\n",
        "# Transformar"
      ],
      "metadata": {
        "id": "BFZdGo63rfAp"
      },
      "execution_count": null,
      "outputs": []
    },
    {
      "cell_type": "code",
      "source": [
        "# - Objetivo 1: localizar el país con más diabetes \n",
        "media_diabetes = diabetes.groupby(by=['País']).mean()['Media']\n",
        "media_diabetes\n"
      ],
      "metadata": {
        "colab": {
          "base_uri": "https://localhost:8080/"
        },
        "id": "rSpEXmdgEXMe",
        "outputId": "b4cd277d-c53b-4211-8515-027ef8e4b611"
      },
      "execution_count": null,
      "outputs": [
        {
          "output_type": "stream",
          "name": "stderr",
          "text": [
            "<ipython-input-155-c013108bfde6>:2: FutureWarning: The default value of numeric_only in DataFrameGroupBy.mean is deprecated. In a future version, numeric_only will default to False. Either specify numeric_only or select only columns which should be valid for the function.\n",
            "  media_diabetes = diabetes.groupby(by=['País']).mean()['Media']\n"
          ]
        },
        {
          "output_type": "execute_result",
          "data": {
            "text/plain": [
              "País\n",
              "Afghanistan       0.048202\n",
              "Albania           0.031626\n",
              "Algeria           0.054531\n",
              "American Samoa    0.192953\n",
              "Andorra           0.043173\n",
              "                    ...   \n",
              "Venezuela         0.051580\n",
              "Viet Nam          0.023598\n",
              "Yemen             0.035808\n",
              "Zambia            0.027186\n",
              "Zimbabwe          0.029599\n",
              "Name: Media, Length: 200, dtype: float64"
            ]
          },
          "metadata": {},
          "execution_count": 155
        }
      ]
    },
    {
      "cell_type": "code",
      "source": [
        "# - Objetivo 2: los hombres tienen más diabetes que las mujeres (true or false)\n",
        "genero_diabetes = diabetes.groupby(by=['Sexo']).mean()['Media']\n",
        "genero_diabetes\n",
        "\n",
        "# Los mujeres tienden a tener más diabetes que los hombres."
      ],
      "metadata": {
        "colab": {
          "base_uri": "https://localhost:8080/"
        },
        "id": "ZHGqMdZ4NGHn",
        "outputId": "2ba4c6ba-7e9f-4ebb-dba0-c321e00b1b7b"
      },
      "execution_count": null,
      "outputs": [
        {
          "output_type": "stream",
          "name": "stderr",
          "text": [
            "<ipython-input-120-c27976e0b07f>:2: FutureWarning: The default value of numeric_only in DataFrameGroupBy.mean is deprecated. In a future version, numeric_only will default to False. Either specify numeric_only or select only columns which should be valid for the function.\n",
            "  genero_diabetes = diabetes.groupby(by=['Sexo']).mean()['Media']\n"
          ]
        },
        {
          "output_type": "execute_result",
          "data": {
            "text/plain": [
              "Sexo\n",
              "Men      0.044094\n",
              "Women    0.045878\n",
              "Name: Media, dtype: float64"
            ]
          },
          "metadata": {},
          "execution_count": 120
        }
      ]
    },
    {
      "cell_type": "code",
      "source": [
        "# - Objetivo 3: ¿Cuáles son los 3 países con más diabetes ?\n",
        "media_diabetes = diabetes.groupby(by=['País']).mean()['Media']\n",
        "media_diabetes "
      ],
      "metadata": {
        "id": "vwBjq6XSOiV5"
      },
      "execution_count": null,
      "outputs": []
    },
    {
      "cell_type": "markdown",
      "source": [
        "### Objetivos"
      ],
      "metadata": {
        "id": "wwEnzRdar5J0"
      }
    },
    {
      "cell_type": "code",
      "source": [
        "# Ir a por los objetivos"
      ],
      "metadata": {
        "id": "uzkHwrmbr8ym"
      },
      "execution_count": null,
      "outputs": []
    },
    {
      "cell_type": "markdown",
      "source": [
        "## Visualización de datos\n"
      ],
      "metadata": {
        "id": "otQoQdBYr7ox"
      }
    },
    {
      "cell_type": "code",
      "source": [
        "# Plots"
      ],
      "metadata": {
        "id": "um69oIJdsCcB"
      },
      "execution_count": null,
      "outputs": []
    },
    {
      "cell_type": "markdown",
      "source": [
        "### Conclusiones \n",
        "- En relación al objetivo 1...\n",
        "- Objetivo 2:\n",
        "- ...\n",
        "\n",
        "En resumen, blablabla"
      ],
      "metadata": {
        "id": "mRQV-RvRqtGE"
      }
    }
  ]
}